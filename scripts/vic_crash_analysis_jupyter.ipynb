{
 "cells": [
  {
   "cell_type": "code",
   "execution_count": 1,
   "id": "d2b2c20d-f470-40ed-907d-19180b9a2a70",
   "metadata": {},
   "outputs": [],
   "source": [
    "import pandas as pd\n",
    "\n",
    "# We get the path of the dataset first\n",
    "file_path = \"/Users/poojabathla/Desktop/GitHub ML/VicCrashAnalytics/Dataset/Blackspot.csv\"\n"
   ]
  },
  {
   "cell_type": "code",
   "execution_count": 2,
   "id": "945d9df0-9a25-44ab-b4bc-3913421e82bb",
   "metadata": {},
   "outputs": [],
   "source": [
    "\n",
    "# Load the dataset\n",
    "blackspot_df = pd.read_csv(file_path)\n",
    "blackspot_df_copy = blackspot_df.copy()\n",
    "\n"
   ]
  },
  {
   "cell_type": "code",
   "execution_count": 3,
   "id": "0b0e8d63-056d-4ad8-a40d-39d5219c6934",
   "metadata": {},
   "outputs": [
    {
     "name": "stdout",
     "output_type": "stream",
     "text": [
      "     ID       EZI_ROAD_NAME      ROAD_NAME ROAD_TYPE  \\\n",
      "0  3699          GROVE ROAD          GROVE      ROAD   \n",
      "1   576  BACCHUS MARSH ROAD  BACCHUS MARSH      ROAD   \n",
      "2   758        GRUBBED ROAD        GRUBBED      ROAD   \n",
      "3    89        VIGOR STREET          VIGOR    STREET   \n",
      "4  8773        FAIRMAN ROAD        FAIRMAN      ROAD   \n",
      "\n",
      "   AGE_LESS_THAN_15YRS_PCNT  AGE_15_24YRS_PCNT  AGE_25_44YRS_PCNT  \\\n",
      "0                  0.121988           0.058735           0.228916   \n",
      "1                  0.215894           0.141722           0.312583   \n",
      "2                  0.185304           0.102236           0.194888   \n",
      "3                  0.167763           0.062500           0.286184   \n",
      "4                  0.201238           0.108359           0.204334   \n",
      "\n",
      "   AGE_45_64YRS_PCNT  AGE_18YRS_OVER_PCNT  AGE_65YRS_OVER_PCNT  ...  \\\n",
      "0           0.269578             0.853916             0.320783  ...   \n",
      "1           0.201325             0.741722             0.128477  ...   \n",
      "2           0.348243             0.757188             0.169329  ...   \n",
      "3           0.322368             0.815789             0.161184  ...   \n",
      "4           0.340557             0.761610             0.145511  ...   \n",
      "\n",
      "   Parkland%  Primary_Production%  Lq_Licenses      Intersection  Supermarket  \\\n",
      "0   0.358321                  0.0         14.0  non-Intersection            0   \n",
      "1   0.000000                  1.0          0.0      Intersection            0   \n",
      "2   1.000000                  0.0          0.0  non-Intersection            0   \n",
      "3   0.036599                  0.0          0.0  non-Intersection            0   \n",
      "4   0.000000                  1.0          0.0  non-Intersection            0   \n",
      "\n",
      "   primary_school  secondary_school  km_post  traffic_signal      Blackspot  \n",
      "0               0                 0        0               0      Blackspot  \n",
      "1               0                 0        1               0      Blackspot  \n",
      "2               0                 0        0               0  non-Blackspot  \n",
      "3               0                 0        0               0  non-Blackspot  \n",
      "4               0                 0        0               0  non-Blackspot  \n",
      "\n",
      "[5 rows x 36 columns]\n",
      "<class 'pandas.core.frame.DataFrame'>\n",
      "RangeIndex: 5326 entries, 0 to 5325\n",
      "Data columns (total 36 columns):\n",
      " #   Column                           Non-Null Count  Dtype  \n",
      "---  ------                           --------------  -----  \n",
      " 0   ID                               5326 non-null   int64  \n",
      " 1   EZI_ROAD_NAME                    5326 non-null   object \n",
      " 2   ROAD_NAME                        5326 non-null   object \n",
      " 3   ROAD_TYPE                        5326 non-null   object \n",
      " 4   AGE_LESS_THAN_15YRS_PCNT         5326 non-null   float64\n",
      " 5   AGE_15_24YRS_PCNT                5326 non-null   float64\n",
      " 6   AGE_25_44YRS_PCNT                5326 non-null   float64\n",
      " 7   AGE_45_64YRS_PCNT                5326 non-null   float64\n",
      " 8   AGE_18YRS_OVER_PCNT              5326 non-null   float64\n",
      " 9   AGE_65YRS_OVER_PCNT              5317 non-null   float64\n",
      " 10  SEO_PERSONS_PCNT                 5326 non-null   float64\n",
      " 11  FC_COUPLE_NO_CHILDREN_PCNT       5326 non-null   float64\n",
      " 12  FC_COUPLE_WITH_CHILDREN_PCNT     5326 non-null   float64\n",
      " 13  FC_SINGLE_PARENT                 5326 non-null   float64\n",
      " 14  CARS_ZERO_HH_PCNT                5326 non-null   float64\n",
      " 15  CARS_ONE_HH_PCNT                 5326 non-null   float64\n",
      " 16  CARS_TWO_OR_MORE_HH_PCNT         5326 non-null   float64\n",
      " 17  DWELLING_SEP_HOUSE_PCNT          5326 non-null   float64\n",
      " 18  DWELLING_SEMID_RO_OR_TCE_H_TH_P  5326 non-null   float64\n",
      " 19  DWELLING_FLAT_UNIT_APART_PCNT    5326 non-null   float64\n",
      " 20  OCCUPATION_WHITE_COLLAR_PCNT     5326 non-null   float64\n",
      " 21  OCCUPATION_BLUE_COLLAR_PCNT      5326 non-null   float64\n",
      " 22  SEIFA                            5326 non-null   int64  \n",
      " 23  Commercial%                      5326 non-null   float64\n",
      " 24  Industrial%                      5326 non-null   float64\n",
      " 25  Residential%                     5326 non-null   float64\n",
      " 26  Parkland%                        5326 non-null   float64\n",
      " 27  Primary_Production%              5326 non-null   float64\n",
      " 28  Lq_Licenses                      5320 non-null   float64\n",
      " 29  Intersection                     5326 non-null   object \n",
      " 30  Supermarket                      5326 non-null   int64  \n",
      " 31  primary_school                   5326 non-null   int64  \n",
      " 32  secondary_school                 5326 non-null   int64  \n",
      " 33  km_post                          5326 non-null   int64  \n",
      " 34  traffic_signal                   5326 non-null   int64  \n",
      " 35  Blackspot                        5326 non-null   object \n",
      "dtypes: float64(24), int64(7), object(5)\n",
      "memory usage: 1.5+ MB\n",
      "None\n",
      "(5326, 36)\n"
     ]
    }
   ],
   "source": [
    "# Display first few rows and explore the dataset\n",
    "print(blackspot_df.head())\n",
    "print(blackspot_df.info())\n",
    "print(blackspot_df.shape)\n"
   ]
  },
  {
   "cell_type": "code",
   "execution_count": 4,
   "id": "200819c2-576b-4424-a336-a44d47590a2c",
   "metadata": {},
   "outputs": [
    {
     "name": "stdout",
     "output_type": "stream",
     "text": [
      "ID                                 0\n",
      "EZI_ROAD_NAME                      0\n",
      "ROAD_NAME                          0\n",
      "ROAD_TYPE                          0\n",
      "AGE_LESS_THAN_15YRS_PCNT           0\n",
      "AGE_15_24YRS_PCNT                  0\n",
      "AGE_25_44YRS_PCNT                  0\n",
      "AGE_45_64YRS_PCNT                  0\n",
      "AGE_18YRS_OVER_PCNT                0\n",
      "AGE_65YRS_OVER_PCNT                9\n",
      "SEO_PERSONS_PCNT                   0\n",
      "FC_COUPLE_NO_CHILDREN_PCNT         0\n",
      "FC_COUPLE_WITH_CHILDREN_PCNT       0\n",
      "FC_SINGLE_PARENT                   0\n",
      "CARS_ZERO_HH_PCNT                  0\n",
      "CARS_ONE_HH_PCNT                   0\n",
      "CARS_TWO_OR_MORE_HH_PCNT           0\n",
      "DWELLING_SEP_HOUSE_PCNT            0\n",
      "DWELLING_SEMID_RO_OR_TCE_H_TH_P    0\n",
      "DWELLING_FLAT_UNIT_APART_PCNT      0\n",
      "OCCUPATION_WHITE_COLLAR_PCNT       0\n",
      "OCCUPATION_BLUE_COLLAR_PCNT        0\n",
      "SEIFA                              0\n",
      "Commercial%                        0\n",
      "Industrial%                        0\n",
      "Residential%                       0\n",
      "Parkland%                          0\n",
      "Primary_Production%                0\n",
      "Lq_Licenses                        6\n",
      "Intersection                       0\n",
      "Supermarket                        0\n",
      "primary_school                     0\n",
      "secondary_school                   0\n",
      "km_post                            0\n",
      "traffic_signal                     0\n",
      "Blackspot                          0\n",
      "dtype: int64\n"
     ]
    }
   ],
   "source": [
    "# Check for number of missing values in the dataset in each column\n",
    "print(blackspot_df.isnull().sum())\n"
   ]
  },
  {
   "cell_type": "code",
   "execution_count": 5,
   "id": "bc4897c3-70c8-4675-aef6-1b2dceb7a4e4",
   "metadata": {},
   "outputs": [
    {
     "name": "stdout",
     "output_type": "stream",
     "text": [
      "Skewness for AGE_65YRS_OVER_PCNT:  3.1658250027296653\n",
      "Skewness for Lq_Licenses:  7.231683592159946\n"
     ]
    }
   ],
   "source": [
    "#Checking for skewness\n",
    "print(\"Skewness for AGE_65YRS_OVER_PCNT: \", blackspot_df[\"AGE_65YRS_OVER_PCNT\"].skew())\n",
    "print(\"Skewness for Lq_Licenses: \", blackspot_df[\"Lq_Licenses\"].skew())\n"
   ]
  },
  {
   "cell_type": "code",
   "execution_count": 6,
   "id": "e00acdde-bbeb-4572-9aa9-64d6bc0e1cea",
   "metadata": {},
   "outputs": [
    {
     "data": {
      "image/png": "[encoded data removed]",
      "text/plain": [
       "<Figure size 640x480 with 1 Axes>"
      ]
     },
     "metadata": {},
     "output_type": "display_data"
    },
    {
     "data": {
      "image/png": "[encoded data removed]",
      "text/plain": [
       "<Figure size 640x480 with 1 Axes>"
      ]
     },
     "metadata": {},
     "output_type": "display_data"
    }
   ],
   "source": [
    "#data visualization\n",
    "import seaborn as sns\n",
    "import matplotlib.pyplot as plt\n",
    "\n",
    "# To visualize the skewness of missing data\n",
    "blackspot_df[\"AGE_65YRS_OVER_PCNT\"].hist()\n",
    "plt.title(\"AGE_65YRS_OVER_PCNT Distribution\")\n",
    "plt.show()  # Show first plot\n",
    "\n",
    "blackspot_df[\"Lq_Licenses\"].hist()\n",
    "plt.title(\"Lq_Licenses Distribution\")\n",
    "plt.show()  # Show second plot\n",
    "\n"
   ]
  },
  {
   "cell_type": "code",
   "execution_count": 7,
   "id": "c0049c55-a7f1-43a1-8e99-f19cba3175a1",
   "metadata": {},
   "outputs": [
    {
     "name": "stdout",
     "output_type": "stream",
     "text": [
      "lq license mode:  0    0.0\n",
      "Name: Lq_Licenses, dtype: float64\n"
     ]
    }
   ],
   "source": [
    "#Fill in skewed numeric data with median and mode for lq_license(since it was a count value but stored as float)\n",
    "blackspot_df.fillna({'AGE_65YRS_OVER_PCNT': blackspot_df['AGE_65YRS_OVER_PCNT'].median(), 'Lq_Licenses': blackspot_df['Lq_Licenses'].mode()}, inplace=True)\n",
    "\n",
    "print('lq license mode: ',blackspot_df['Lq_Licenses'].mode())\n"
   ]
  },
  {
   "cell_type": "code",
   "execution_count": 8,
   "id": "39a45d94-07e8-466f-9410-d0244618bacb",
   "metadata": {},
   "outputs": [
    {
     "name": "stdout",
     "output_type": "stream",
     "text": [
      "ID                                 0\n",
      "EZI_ROAD_NAME                      0\n",
      "ROAD_NAME                          0\n",
      "ROAD_TYPE                          0\n",
      "AGE_LESS_THAN_15YRS_PCNT           0\n",
      "AGE_15_24YRS_PCNT                  0\n",
      "AGE_25_44YRS_PCNT                  0\n",
      "AGE_45_64YRS_PCNT                  0\n",
      "AGE_18YRS_OVER_PCNT                0\n",
      "AGE_65YRS_OVER_PCNT                0\n",
      "SEO_PERSONS_PCNT                   0\n",
      "FC_COUPLE_NO_CHILDREN_PCNT         0\n",
      "FC_COUPLE_WITH_CHILDREN_PCNT       0\n",
      "FC_SINGLE_PARENT                   0\n",
      "CARS_ZERO_HH_PCNT                  0\n",
      "CARS_ONE_HH_PCNT                   0\n",
      "CARS_TWO_OR_MORE_HH_PCNT           0\n",
      "DWELLING_SEP_HOUSE_PCNT            0\n",
      "DWELLING_SEMID_RO_OR_TCE_H_TH_P    0\n",
      "DWELLING_FLAT_UNIT_APART_PCNT      0\n",
      "OCCUPATION_WHITE_COLLAR_PCNT       0\n",
      "OCCUPATION_BLUE_COLLAR_PCNT        0\n",
      "SEIFA                              0\n",
      "Commercial%                        0\n",
      "Industrial%                        0\n",
      "Residential%                       0\n",
      "Parkland%                          0\n",
      "Primary_Production%                0\n",
      "Lq_Licenses                        6\n",
      "Intersection                       0\n",
      "Supermarket                        0\n",
      "primary_school                     0\n",
      "secondary_school                   0\n",
      "km_post                            0\n",
      "traffic_signal                     0\n",
      "Blackspot                          0\n",
      "dtype: int64\n"
     ]
    }
   ],
   "source": [
    "\n",
    "# Check for number of missing values in the dataset in each column\n",
    "print(blackspot_df.isnull().sum())\n"
   ]
  },
  {
   "cell_type": "code",
   "execution_count": 9,
   "id": "15050502-e085-4724-85f6-adbab0ef3d5c",
   "metadata": {},
   "outputs": [
    {
     "name": "stdout",
     "output_type": "stream",
     "text": [
      "<class 'pandas.core.frame.DataFrame'>\n",
      "RangeIndex: 5326 entries, 0 to 5325\n",
      "Data columns (total 36 columns):\n",
      " #   Column                           Non-Null Count  Dtype  \n",
      "---  ------                           --------------  -----  \n",
      " 0   ID                               5326 non-null   int64  \n",
      " 1   EZI_ROAD_NAME                    5326 non-null   object \n",
      " 2   ROAD_NAME                        5326 non-null   object \n",
      " 3   ROAD_TYPE                        5326 non-null   object \n",
      " 4   AGE_LESS_THAN_15YRS_PCNT         5326 non-null   float64\n",
      " 5   AGE_15_24YRS_PCNT                5326 non-null   float64\n",
      " 6   AGE_25_44YRS_PCNT                5326 non-null   float64\n",
      " 7   AGE_45_64YRS_PCNT                5326 non-null   float64\n",
      " 8   AGE_18YRS_OVER_PCNT              5326 non-null   float64\n",
      " 9   AGE_65YRS_OVER_PCNT              5326 non-null   float64\n",
      " 10  SEO_PERSONS_PCNT                 5326 non-null   float64\n",
      " 11  FC_COUPLE_NO_CHILDREN_PCNT       5326 non-null   float64\n",
      " 12  FC_COUPLE_WITH_CHILDREN_PCNT     5326 non-null   float64\n",
      " 13  FC_SINGLE_PARENT                 5326 non-null   float64\n",
      " 14  CARS_ZERO_HH_PCNT                5326 non-null   float64\n",
      " 15  CARS_ONE_HH_PCNT                 5326 non-null   float64\n",
      " 16  CARS_TWO_OR_MORE_HH_PCNT         5326 non-null   float64\n",
      " 17  DWELLING_SEP_HOUSE_PCNT          5326 non-null   float64\n",
      " 18  DWELLING_SEMID_RO_OR_TCE_H_TH_P  5326 non-null   float64\n",
      " 19  DWELLING_FLAT_UNIT_APART_PCNT    5326 non-null   float64\n",
      " 20  OCCUPATION_WHITE_COLLAR_PCNT     5326 non-null   float64\n",
      " 21  OCCUPATION_BLUE_COLLAR_PCNT      5326 non-null   float64\n",
      " 22  SEIFA                            5326 non-null   int64  \n",
      " 23  Commercial%                      5326 non-null   float64\n",
      " 24  Industrial%                      5326 non-null   float64\n",
      " 25  Residential%                     5326 non-null   float64\n",
      " 26  Parkland%                        5326 non-null   float64\n",
      " 27  Primary_Production%              5326 non-null   float64\n",
      " 28  Lq_Licenses                      5320 non-null   float64\n",
      " 29  Intersection                     5326 non-null   object \n",
      " 30  Supermarket                      5326 non-null   int64  \n",
      " 31  primary_school                   5326 non-null   int64  \n",
      " 32  secondary_school                 5326 non-null   int64  \n",
      " 33  km_post                          5326 non-null   int64  \n",
      " 34  traffic_signal                   5326 non-null   int64  \n",
      " 35  Blackspot                        5326 non-null   object \n",
      "dtypes: float64(24), int64(7), object(5)\n",
      "memory usage: 1.5+ MB\n",
      "None\n"
     ]
    }
   ],
   "source": [
    "print(blackspot_df.info())\n"
   ]
  },
  {
   "cell_type": "code",
   "execution_count": 10,
   "id": "8299864d",
   "metadata": {
    "vscode": {
     "languageId": "markdown"
    }
   },
   "outputs": [
    {
     "name": "stdout",
     "output_type": "stream",
     "text": [
      "['ROAD' 'STREET' 'HIGHWAY' 'DRIVE' 'WAY' 'FREEWAY']\n"
     ]
    }
   ],
   "source": [
    "# To see how many types of road types are there \n",
    "print(blackspot_df['ROAD_TYPE'].unique())\n",
    "\n"
   ]
  },
  {
   "cell_type": "code",
   "execution_count": 11,
   "id": "541a3959",
   "metadata": {
    "vscode": {
     "languageId": "markdown"
    }
   },
   "outputs": [],
   "source": [
    "# removing columns ID, EZI_ROAD_NAME, ROAD_NAME, AGE_15_24YRS_PCNT, AGE_25_44YRS_PCNT, AGE_45_64YRS_PCNT, SEO_PERSONS_PCNT\n",
    "blackspot_df.drop(['ID','EZI_ROAD_NAME','ROAD_NAME','AGE_15_24YRS_PCNT','AGE_25_44YRS_PCNT','AGE_45_64YRS_PCNT','AGE_45_64YRS_PCNT','SEO_PERSONS_PCNT'], axis=1, inplace=True)"
   ]
  },
  {
   "cell_type": "code",
   "execution_count": 12,
   "id": "5edebbbc",
   "metadata": {
    "vscode": {
     "languageId": "markdown"
    }
   },
   "outputs": [
    {
     "data": {
      "text/html": [
       "<div>\n",
       "<style scoped>\n",
       "    .dataframe tbody tr th:only-of-type {\n",
       "        vertical-align: middle;\n",
       "    }\n",
       "\n",
       "    .dataframe tbody tr th {\n",
       "        vertical-align: top;\n",
       "    }\n",
       "\n",
       "    .dataframe thead th {\n",
       "        text-align: right;\n",
       "    }\n",
       "</style>\n",
       "<table border=\"1\" class=\"dataframe\">\n",
       "  <thead>\n",
       "    <tr style=\"text-align: right;\">\n",
       "      <th></th>\n",
       "      <th>ROAD_TYPE</th>\n",
       "      <th>AGE_LESS_THAN_15YRS_PCNT</th>\n",
       "      <th>AGE_18YRS_OVER_PCNT</th>\n",
       "      <th>AGE_65YRS_OVER_PCNT</th>\n",
       "      <th>FC_COUPLE_NO_CHILDREN_PCNT</th>\n",
       "      <th>FC_COUPLE_WITH_CHILDREN_PCNT</th>\n",
       "      <th>FC_SINGLE_PARENT</th>\n",
       "      <th>CARS_ZERO_HH_PCNT</th>\n",
       "      <th>CARS_ONE_HH_PCNT</th>\n",
       "      <th>CARS_TWO_OR_MORE_HH_PCNT</th>\n",
       "      <th>...</th>\n",
       "      <th>Parkland%</th>\n",
       "      <th>Primary_Production%</th>\n",
       "      <th>Lq_Licenses</th>\n",
       "      <th>Intersection</th>\n",
       "      <th>Supermarket</th>\n",
       "      <th>primary_school</th>\n",
       "      <th>secondary_school</th>\n",
       "      <th>km_post</th>\n",
       "      <th>traffic_signal</th>\n",
       "      <th>Blackspot</th>\n",
       "    </tr>\n",
       "  </thead>\n",
       "  <tbody>\n",
       "    <tr>\n",
       "      <th>0</th>\n",
       "      <td>ROAD</td>\n",
       "      <td>0.121988</td>\n",
       "      <td>0.853916</td>\n",
       "      <td>0.320783</td>\n",
       "      <td>0.575758</td>\n",
       "      <td>0.303030</td>\n",
       "      <td>0.075758</td>\n",
       "      <td>0.068493</td>\n",
       "      <td>0.429224</td>\n",
       "      <td>0.461187</td>\n",
       "      <td>...</td>\n",
       "      <td>0.358321</td>\n",
       "      <td>0.0</td>\n",
       "      <td>14.0</td>\n",
       "      <td>non-Intersection</td>\n",
       "      <td>0</td>\n",
       "      <td>0</td>\n",
       "      <td>0</td>\n",
       "      <td>0</td>\n",
       "      <td>0</td>\n",
       "      <td>Blackspot</td>\n",
       "    </tr>\n",
       "    <tr>\n",
       "      <th>1</th>\n",
       "      <td>ROAD</td>\n",
       "      <td>0.215894</td>\n",
       "      <td>0.741722</td>\n",
       "      <td>0.128477</td>\n",
       "      <td>0.401869</td>\n",
       "      <td>0.518692</td>\n",
       "      <td>0.126168</td>\n",
       "      <td>0.011450</td>\n",
       "      <td>0.225191</td>\n",
       "      <td>0.721374</td>\n",
       "      <td>...</td>\n",
       "      <td>0.000000</td>\n",
       "      <td>1.0</td>\n",
       "      <td>0.0</td>\n",
       "      <td>Intersection</td>\n",
       "      <td>0</td>\n",
       "      <td>0</td>\n",
       "      <td>0</td>\n",
       "      <td>1</td>\n",
       "      <td>0</td>\n",
       "      <td>Blackspot</td>\n",
       "    </tr>\n",
       "    <tr>\n",
       "      <th>2</th>\n",
       "      <td>ROAD</td>\n",
       "      <td>0.185304</td>\n",
       "      <td>0.757188</td>\n",
       "      <td>0.169329</td>\n",
       "      <td>0.505155</td>\n",
       "      <td>0.360825</td>\n",
       "      <td>0.103093</td>\n",
       "      <td>0.000000</td>\n",
       "      <td>0.177570</td>\n",
       "      <td>0.785047</td>\n",
       "      <td>...</td>\n",
       "      <td>1.000000</td>\n",
       "      <td>0.0</td>\n",
       "      <td>0.0</td>\n",
       "      <td>non-Intersection</td>\n",
       "      <td>0</td>\n",
       "      <td>0</td>\n",
       "      <td>0</td>\n",
       "      <td>0</td>\n",
       "      <td>0</td>\n",
       "      <td>non-Blackspot</td>\n",
       "    </tr>\n",
       "    <tr>\n",
       "      <th>3</th>\n",
       "      <td>STREET</td>\n",
       "      <td>0.167763</td>\n",
       "      <td>0.815789</td>\n",
       "      <td>0.161184</td>\n",
       "      <td>0.454545</td>\n",
       "      <td>0.363636</td>\n",
       "      <td>0.227273</td>\n",
       "      <td>0.054545</td>\n",
       "      <td>0.372727</td>\n",
       "      <td>0.545455</td>\n",
       "      <td>...</td>\n",
       "      <td>0.036599</td>\n",
       "      <td>0.0</td>\n",
       "      <td>0.0</td>\n",
       "      <td>non-Intersection</td>\n",
       "      <td>0</td>\n",
       "      <td>0</td>\n",
       "      <td>0</td>\n",
       "      <td>0</td>\n",
       "      <td>0</td>\n",
       "      <td>non-Blackspot</td>\n",
       "    </tr>\n",
       "    <tr>\n",
       "      <th>4</th>\n",
       "      <td>ROAD</td>\n",
       "      <td>0.201238</td>\n",
       "      <td>0.761610</td>\n",
       "      <td>0.145511</td>\n",
       "      <td>0.431579</td>\n",
       "      <td>0.484211</td>\n",
       "      <td>0.052632</td>\n",
       "      <td>0.000000</td>\n",
       "      <td>0.115385</td>\n",
       "      <td>0.884615</td>\n",
       "      <td>...</td>\n",
       "      <td>0.000000</td>\n",
       "      <td>1.0</td>\n",
       "      <td>0.0</td>\n",
       "      <td>non-Intersection</td>\n",
       "      <td>0</td>\n",
       "      <td>0</td>\n",
       "      <td>0</td>\n",
       "      <td>0</td>\n",
       "      <td>0</td>\n",
       "      <td>non-Blackspot</td>\n",
       "    </tr>\n",
       "  </tbody>\n",
       "</table>\n",
       "<p>5 rows × 29 columns</p>\n",
       "</div>"
      ],
      "text/plain": [
       "  ROAD_TYPE  AGE_LESS_THAN_15YRS_PCNT  AGE_18YRS_OVER_PCNT  \\\n",
       "0      ROAD                  0.121988             0.853916   \n",
       "1      ROAD                  0.215894             0.741722   \n",
       "2      ROAD                  0.185304             0.757188   \n",
       "3    STREET                  0.167763             0.815789   \n",
       "4      ROAD                  0.201238             0.761610   \n",
       "\n",
       "   AGE_65YRS_OVER_PCNT  FC_COUPLE_NO_CHILDREN_PCNT  \\\n",
       "0             0.320783                    0.575758   \n",
       "1             0.128477                    0.401869   \n",
       "2             0.169329                    0.505155   \n",
       "3             0.161184                    0.454545   \n",
       "4             0.145511                    0.431579   \n",
       "\n",
       "   FC_COUPLE_WITH_CHILDREN_PCNT  FC_SINGLE_PARENT  CARS_ZERO_HH_PCNT  \\\n",
       "0                      0.303030          0.075758           0.068493   \n",
       "1                      0.518692          0.126168           0.011450   \n",
       "2                      0.360825          0.103093           0.000000   \n",
       "3                      0.363636          0.227273           0.054545   \n",
       "4                      0.484211          0.052632           0.000000   \n",
       "\n",
       "   CARS_ONE_HH_PCNT  CARS_TWO_OR_MORE_HH_PCNT  ...  Parkland%  \\\n",
       "0          0.429224                  0.461187  ...   0.358321   \n",
       "1          0.225191                  0.721374  ...   0.000000   \n",
       "2          0.177570                  0.785047  ...   1.000000   \n",
       "3          0.372727                  0.545455  ...   0.036599   \n",
       "4          0.115385                  0.884615  ...   0.000000   \n",
       "\n",
       "   Primary_Production%  Lq_Licenses      Intersection  Supermarket  \\\n",
       "0                  0.0         14.0  non-Intersection            0   \n",
       "1                  1.0          0.0      Intersection            0   \n",
       "2                  0.0          0.0  non-Intersection            0   \n",
       "3                  0.0          0.0  non-Intersection            0   \n",
       "4                  1.0          0.0  non-Intersection            0   \n",
       "\n",
       "   primary_school  secondary_school  km_post  traffic_signal      Blackspot  \n",
       "0               0                 0        0               0      Blackspot  \n",
       "1               0                 0        1               0      Blackspot  \n",
       "2               0                 0        0               0  non-Blackspot  \n",
       "3               0                 0        0               0  non-Blackspot  \n",
       "4               0                 0        0               0  non-Blackspot  \n",
       "\n",
       "[5 rows x 29 columns]"
      ]
     },
     "execution_count": 12,
     "metadata": {},
     "output_type": "execute_result"
    }
   ],
   "source": [
    "blackspot_df.head()"
   ]
  },
  {
   "cell_type": "code",
   "execution_count": 13,
   "id": "ab72a94e",
   "metadata": {
    "vscode": {
     "languageId": "markdown"
    }
   },
   "outputs": [],
   "source": [
    "# If i want to find the correlations i need to convert object values into numerical. Like ROAD_TYPE, Intersection, Blackspot\n",
    "\n",
    "from sklearn.preprocessing import LabelEncoder\n",
    "\n",
    "le = LabelEncoder()\n",
    "blackspot_df['ROAD_TYPE'] = le.fit_transform(blackspot_df['ROAD_TYPE'])"
   ]
  },
  {
   "cell_type": "code",
   "execution_count": 20,
   "id": "805fa656",
   "metadata": {
    "vscode": {
     "languageId": "markdown"
    }
   },
   "outputs": [],
   "source": [
    "blackspot_df['Blackspot'] = blackspot_df['Blackspot'].map({'Blackspot': 1, 'non-Blackspot': 0})"
   ]
  },
  {
   "cell_type": "code",
   "execution_count": 21,
   "id": "82e70b4d",
   "metadata": {
    "vscode": {
     "languageId": "markdown"
    }
   },
   "outputs": [],
   "source": [
    "blackspot_df['Intersection'] = blackspot_df['Intersection'].map({'Intersection': 1, 'non-Intersection': 0})"
   ]
  },
  {
   "cell_type": "code",
   "execution_count": 22,
   "id": "37dac8fa",
   "metadata": {
    "vscode": {
     "languageId": "markdown"
    }
   },
   "outputs": [
    {
     "name": "stdout",
     "output_type": "stream",
     "text": [
      "<class 'pandas.core.frame.DataFrame'>\n",
      "RangeIndex: 5326 entries, 0 to 5325\n",
      "Data columns (total 29 columns):\n",
      " #   Column                           Non-Null Count  Dtype  \n",
      "---  ------                           --------------  -----  \n",
      " 0   ROAD_TYPE                        5326 non-null   int64  \n",
      " 1   AGE_LESS_THAN_15YRS_PCNT         5326 non-null   float64\n",
      " 2   AGE_18YRS_OVER_PCNT              5326 non-null   float64\n",
      " 3   AGE_65YRS_OVER_PCNT              5326 non-null   float64\n",
      " 4   FC_COUPLE_NO_CHILDREN_PCNT       5326 non-null   float64\n",
      " 5   FC_COUPLE_WITH_CHILDREN_PCNT     5326 non-null   float64\n",
      " 6   FC_SINGLE_PARENT                 5326 non-null   float64\n",
      " 7   CARS_ZERO_HH_PCNT                5326 non-null   float64\n",
      " 8   CARS_ONE_HH_PCNT                 5326 non-null   float64\n",
      " 9   CARS_TWO_OR_MORE_HH_PCNT         5326 non-null   float64\n",
      " 10  DWELLING_SEP_HOUSE_PCNT          5326 non-null   float64\n",
      " 11  DWELLING_SEMID_RO_OR_TCE_H_TH_P  5326 non-null   float64\n",
      " 12  DWELLING_FLAT_UNIT_APART_PCNT    5326 non-null   float64\n",
      " 13  OCCUPATION_WHITE_COLLAR_PCNT     5326 non-null   float64\n",
      " 14  OCCUPATION_BLUE_COLLAR_PCNT      5326 non-null   float64\n",
      " 15  SEIFA                            5326 non-null   int64  \n",
      " 16  Commercial%                      5326 non-null   float64\n",
      " 17  Industrial%                      5326 non-null   float64\n",
      " 18  Residential%                     5326 non-null   float64\n",
      " 19  Parkland%                        5326 non-null   float64\n",
      " 20  Primary_Production%              5326 non-null   float64\n",
      " 21  Lq_Licenses                      5320 non-null   float64\n",
      " 22  Intersection                     5326 non-null   int64  \n",
      " 23  Supermarket                      5326 non-null   int64  \n",
      " 24  primary_school                   5326 non-null   int64  \n",
      " 25  secondary_school                 5326 non-null   int64  \n",
      " 26  km_post                          5326 non-null   int64  \n",
      " 27  traffic_signal                   5326 non-null   int64  \n",
      " 28  Blackspot                        5326 non-null   int64  \n",
      "dtypes: float64(20), int64(9)\n",
      "memory usage: 1.2 MB\n"
     ]
    }
   ],
   "source": [
    "blackspot_df.info()"
   ]
  },
  {
   "cell_type": "code",
   "execution_count": null,
   "id": "3bd7a8be",
   "metadata": {
    "vscode": {
     "languageId": "markdown"
    }
   },
   "outputs": [],
   "source": [
    "# now we start comparing values by doing data visualisations\n"
   ]
  }
 ],
 "metadata": {
  "kernelspec": {
   "display_name": "venv",
   "language": "python",
   "name": "python3"
  },
  "language_info": {
   "codemirror_mode": {
    "name": "ipython",
    "version": 3
   },
   "file_extension": ".py",
   "mimetype": "text/x-python",
   "name": "python",
   "nbconvert_exporter": "python",
   "pygments_lexer": "ipython3",
   "version": "3.13.2"
  }
 },
 "nbformat": 4,
 "nbformat_minor": 5
}
