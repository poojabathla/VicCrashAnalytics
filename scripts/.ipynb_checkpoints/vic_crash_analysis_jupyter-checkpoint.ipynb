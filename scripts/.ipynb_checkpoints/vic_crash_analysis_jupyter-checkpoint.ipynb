{
 "cells": [
  {
   "cell_type": "code",
   "execution_count": 2,
   "id": "d2b2c20d-f470-40ed-907d-19180b9a2a70",
   "metadata": {},
   "outputs": [],
   "source": [
    "import pandas as pd\n",
    "\n",
    "# We get the path of the dataset first\n",
    "file_path = \"/Users/poojabathla/Desktop/GitHub ML/VicCrashAnalytics/Dataset/Blackspot.csv\"\n"
   ]
  },
  {
   "cell_type": "code",
   "execution_count": 6,
   "id": "945d9df0-9a25-44ab-b4bc-3913421e82bb",
   "metadata": {},
   "outputs": [],
   "source": [
    "\n",
    "# Load the dataset\n",
    "blackspot_df = pd.read_csv(file_path)\n",
    "\n"
   ]
  },
  {
   "cell_type": "code",
   "execution_count": 8,
   "id": "0b0e8d63-056d-4ad8-a40d-39d5219c6934",
   "metadata": {},
   "outputs": [
    {
     "name": "stdout",
     "output_type": "stream",
     "text": [
      "     ID       EZI_ROAD_NAME      ROAD_NAME ROAD_TYPE  \\\n",
      "0  3699          GROVE ROAD          GROVE      ROAD   \n",
      "1   576  BACCHUS MARSH ROAD  BACCHUS MARSH      ROAD   \n",
      "2   758        GRUBBED ROAD        GRUBBED      ROAD   \n",
      "3    89        VIGOR STREET          VIGOR    STREET   \n",
      "4  8773        FAIRMAN ROAD        FAIRMAN      ROAD   \n",
      "\n",
      "   AGE_LESS_THAN_15YRS_PCNT  AGE_15_24YRS_PCNT  AGE_25_44YRS_PCNT  \\\n",
      "0                  0.121988           0.058735           0.228916   \n",
      "1                  0.215894           0.141722           0.312583   \n",
      "2                  0.185304           0.102236           0.194888   \n",
      "3                  0.167763           0.062500           0.286184   \n",
      "4                  0.201238           0.108359           0.204334   \n",
      "\n",
      "   AGE_45_64YRS_PCNT  AGE_18YRS_OVER_PCNT  AGE_65YRS_OVER_PCNT  ...  \\\n",
      "0           0.269578             0.853916             0.320783  ...   \n",
      "1           0.201325             0.741722             0.128477  ...   \n",
      "2           0.348243             0.757188             0.169329  ...   \n",
      "3           0.322368             0.815789             0.161184  ...   \n",
      "4           0.340557             0.761610             0.145511  ...   \n",
      "\n",
      "   Parkland%  Primary_Production%  Lq_Licenses      Intersection  Supermarket  \\\n",
      "0   0.358321                  0.0         14.0  non-Intersection            0   \n",
      "1   0.000000                  1.0          0.0      Intersection            0   \n",
      "2   1.000000                  0.0          0.0  non-Intersection            0   \n",
      "3   0.036599                  0.0          0.0  non-Intersection            0   \n",
      "4   0.000000                  1.0          0.0  non-Intersection            0   \n",
      "\n",
      "   primary_school  secondary_school  km_post  traffic_signal      Blackspot  \n",
      "0               0                 0        0               0      Blackspot  \n",
      "1               0                 0        1               0      Blackspot  \n",
      "2               0                 0        0               0  non-Blackspot  \n",
      "3               0                 0        0               0  non-Blackspot  \n",
      "4               0                 0        0               0  non-Blackspot  \n",
      "\n",
      "[5 rows x 36 columns]\n",
      "<class 'pandas.core.frame.DataFrame'>\n",
      "RangeIndex: 5326 entries, 0 to 5325\n",
      "Data columns (total 36 columns):\n",
      " #   Column                           Non-Null Count  Dtype  \n",
      "---  ------                           --------------  -----  \n",
      " 0   ID                               5326 non-null   int64  \n",
      " 1   EZI_ROAD_NAME                    5326 non-null   object \n",
      " 2   ROAD_NAME                        5326 non-null   object \n",
      " 3   ROAD_TYPE                        5326 non-null   object \n",
      " 4   AGE_LESS_THAN_15YRS_PCNT         5326 non-null   float64\n",
      " 5   AGE_15_24YRS_PCNT                5326 non-null   float64\n",
      " 6   AGE_25_44YRS_PCNT                5326 non-null   float64\n",
      " 7   AGE_45_64YRS_PCNT                5326 non-null   float64\n",
      " 8   AGE_18YRS_OVER_PCNT              5326 non-null   float64\n",
      " 9   AGE_65YRS_OVER_PCNT              5317 non-null   float64\n",
      " 10  SEO_PERSONS_PCNT                 5326 non-null   float64\n",
      " 11  FC_COUPLE_NO_CHILDREN_PCNT       5326 non-null   float64\n",
      " 12  FC_COUPLE_WITH_CHILDREN_PCNT     5326 non-null   float64\n",
      " 13  FC_SINGLE_PARENT                 5326 non-null   float64\n",
      " 14  CARS_ZERO_HH_PCNT                5326 non-null   float64\n",
      " 15  CARS_ONE_HH_PCNT                 5326 non-null   float64\n",
      " 16  CARS_TWO_OR_MORE_HH_PCNT         5326 non-null   float64\n",
      " 17  DWELLING_SEP_HOUSE_PCNT          5326 non-null   float64\n",
      " 18  DWELLING_SEMID_RO_OR_TCE_H_TH_P  5326 non-null   float64\n",
      " 19  DWELLING_FLAT_UNIT_APART_PCNT    5326 non-null   float64\n",
      " 20  OCCUPATION_WHITE_COLLAR_PCNT     5326 non-null   float64\n",
      " 21  OCCUPATION_BLUE_COLLAR_PCNT      5326 non-null   float64\n",
      " 22  SEIFA                            5326 non-null   int64  \n",
      " 23  Commercial%                      5326 non-null   float64\n",
      " 24  Industrial%                      5326 non-null   float64\n",
      " 25  Residential%                     5326 non-null   float64\n",
      " 26  Parkland%                        5326 non-null   float64\n",
      " 27  Primary_Production%              5326 non-null   float64\n",
      " 28  Lq_Licenses                      5320 non-null   float64\n",
      " 29  Intersection                     5326 non-null   object \n",
      " 30  Supermarket                      5326 non-null   int64  \n",
      " 31  primary_school                   5326 non-null   int64  \n",
      " 32  secondary_school                 5326 non-null   int64  \n",
      " 33  km_post                          5326 non-null   int64  \n",
      " 34  traffic_signal                   5326 non-null   int64  \n",
      " 35  Blackspot                        5326 non-null   object \n",
      "dtypes: float64(24), int64(7), object(5)\n",
      "memory usage: 1.5+ MB\n",
      "None\n",
      "(5326, 36)\n"
     ]
    }
   ],
   "source": [
    "# Display first few rows and explore the dataset\n",
    "print(blackspot_df.head())\n",
    "print(blackspot_df.info())\n",
    "print(blackspot_df.shape)\n"
   ]
  },
  {
   "cell_type": "code",
   "execution_count": 10,
   "id": "200819c2-576b-4424-a336-a44d47590a2c",
   "metadata": {},
   "outputs": [
    {
     "name": "stdout",
     "output_type": "stream",
     "text": [
      "ID                                 0\n",
      "EZI_ROAD_NAME                      0\n",
      "ROAD_NAME                          0\n",
      "ROAD_TYPE                          0\n",
      "AGE_LESS_THAN_15YRS_PCNT           0\n",
      "AGE_15_24YRS_PCNT                  0\n",
      "AGE_25_44YRS_PCNT                  0\n",
      "AGE_45_64YRS_PCNT                  0\n",
      "AGE_18YRS_OVER_PCNT                0\n",
      "AGE_65YRS_OVER_PCNT                9\n",
      "SEO_PERSONS_PCNT                   0\n",
      "FC_COUPLE_NO_CHILDREN_PCNT         0\n",
      "FC_COUPLE_WITH_CHILDREN_PCNT       0\n",
      "FC_SINGLE_PARENT                   0\n",
      "CARS_ZERO_HH_PCNT                  0\n",
      "CARS_ONE_HH_PCNT                   0\n",
      "CARS_TWO_OR_MORE_HH_PCNT           0\n",
      "DWELLING_SEP_HOUSE_PCNT            0\n",
      "DWELLING_SEMID_RO_OR_TCE_H_TH_P    0\n",
      "DWELLING_FLAT_UNIT_APART_PCNT      0\n",
      "OCCUPATION_WHITE_COLLAR_PCNT       0\n",
      "OCCUPATION_BLUE_COLLAR_PCNT        0\n",
      "SEIFA                              0\n",
      "Commercial%                        0\n",
      "Industrial%                        0\n",
      "Residential%                       0\n",
      "Parkland%                          0\n",
      "Primary_Production%                0\n",
      "Lq_Licenses                        6\n",
      "Intersection                       0\n",
      "Supermarket                        0\n",
      "primary_school                     0\n",
      "secondary_school                   0\n",
      "km_post                            0\n",
      "traffic_signal                     0\n",
      "Blackspot                          0\n",
      "dtype: int64\n"
     ]
    }
   ],
   "source": [
    "# Check for number of missing values in the dataset in each column\n",
    "print(blackspot_df.isnull().sum())\n"
   ]
  },
  {
   "cell_type": "code",
   "execution_count": 12,
   "id": "bc4897c3-70c8-4675-aef6-1b2dceb7a4e4",
   "metadata": {},
   "outputs": [
    {
     "name": "stdout",
     "output_type": "stream",
     "text": [
      "Skewness for AGE_65YRS_OVER_PCNT:  3.1658250027296653\n",
      "Skewness for Lq_Licenses:  7.231683592159946\n"
     ]
    }
   ],
   "source": [
    "#Checking for skewness\n",
    "print(\"Skewness for AGE_65YRS_OVER_PCNT: \", blackspot_df[\"AGE_65YRS_OVER_PCNT\"].skew())\n",
    "print(\"Skewness for Lq_Licenses: \", blackspot_df[\"Lq_Licenses\"].skew())\n"
   ]
  },
  {
   "cell_type": "code",
   "execution_count": 14,
   "id": "e00acdde-bbeb-4572-9aa9-64d6bc0e1cea",
   "metadata": {},
   "outputs": [
    {
     "data": {
      "image/png": "[encoded data removed]",
      "text/plain": [
       "<Figure size 640x480 with 1 Axes>"
      ]
     },
     "metadata": {},
     "output_type": "display_data"
    },
    {
     "data": {
      "image/png": "[encoded data removed]",
      "text/plain": [
       "<Figure size 640x480 with 1 Axes>"
      ]
     },
     "metadata": {},
     "output_type": "display_data"
    }
   ],
   "source": [
    "#data visualization\n",
    "import seaborn as sns\n",
    "import matplotlib.pyplot as plt\n",
    "\n",
    "# To visualize the skewness of missing data\n",
    "blackspot_df[\"AGE_65YRS_OVER_PCNT\"].hist()\n",
    "plt.title(\"AGE_65YRS_OVER_PCNT Distribution\")\n",
    "plt.show()  # Show first plot\n",
    "\n",
    "blackspot_df[\"Lq_Licenses\"].hist()\n",
    "plt.title(\"Lq_Licenses Distribution\")\n",
    "plt.show()  # Show second plot\n",
    "\n"
   ]
  },
  {
   "cell_type": "code",
   "execution_count": 16,
   "id": "c0049c55-a7f1-43a1-8e99-f19cba3175a1",
   "metadata": {},
   "outputs": [
    {
     "name": "stdout",
     "output_type": "stream",
     "text": [
      "lq license mode:  0    0.0\n",
      "Name: Lq_Licenses, dtype: float64\n"
     ]
    }
   ],
   "source": [
    "#Fill in skewed numeric data with median and mode for lq_license(since it was a count value but stored as float)\n",
    "blackspot_df.fillna({'AGE_65YRS_OVER_PCNT': blackspot_df['AGE_65YRS_OVER_PCNT'].median(), 'Lq_Licenses': blackspot_df['Lq_Licenses'].mode()}, inplace=True)\n",
    "\n",
    "print('lq license mode: ',blackspot_df['Lq_Licenses'].mode())\n"
   ]
  },
  {
   "cell_type": "code",
   "execution_count": 18,
   "id": "39a45d94-07e8-466f-9410-d0244618bacb",
   "metadata": {},
   "outputs": [
    {
     "name": "stdout",
     "output_type": "stream",
     "text": [
      "ID                                 0\n",
      "EZI_ROAD_NAME                      0\n",
      "ROAD_NAME                          0\n",
      "ROAD_TYPE                          0\n",
      "AGE_LESS_THAN_15YRS_PCNT           0\n",
      "AGE_15_24YRS_PCNT                  0\n",
      "AGE_25_44YRS_PCNT                  0\n",
      "AGE_45_64YRS_PCNT                  0\n",
      "AGE_18YRS_OVER_PCNT                0\n",
      "AGE_65YRS_OVER_PCNT                0\n",
      "SEO_PERSONS_PCNT                   0\n",
      "FC_COUPLE_NO_CHILDREN_PCNT         0\n",
      "FC_COUPLE_WITH_CHILDREN_PCNT       0\n",
      "FC_SINGLE_PARENT                   0\n",
      "CARS_ZERO_HH_PCNT                  0\n",
      "CARS_ONE_HH_PCNT                   0\n",
      "CARS_TWO_OR_MORE_HH_PCNT           0\n",
      "DWELLING_SEP_HOUSE_PCNT            0\n",
      "DWELLING_SEMID_RO_OR_TCE_H_TH_P    0\n",
      "DWELLING_FLAT_UNIT_APART_PCNT      0\n",
      "OCCUPATION_WHITE_COLLAR_PCNT       0\n",
      "OCCUPATION_BLUE_COLLAR_PCNT        0\n",
      "SEIFA                              0\n",
      "Commercial%                        0\n",
      "Industrial%                        0\n",
      "Residential%                       0\n",
      "Parkland%                          0\n",
      "Primary_Production%                0\n",
      "Lq_Licenses                        6\n",
      "Intersection                       0\n",
      "Supermarket                        0\n",
      "primary_school                     0\n",
      "secondary_school                   0\n",
      "km_post                            0\n",
      "traffic_signal                     0\n",
      "Blackspot                          0\n",
      "dtype: int64\n"
     ]
    }
   ],
   "source": [
    "\n",
    "# Check for number of missing values in the dataset in each column\n",
    "print(blackspot_df.isnull().sum())\n"
   ]
  },
  {
   "cell_type": "code",
   "execution_count": null,
   "id": "15050502-e085-4724-85f6-adbab0ef3d5c",
   "metadata": {},
   "outputs": [],
   "source": []
  }
 ],
 "metadata": {
  "kernelspec": {
   "display_name": "Python [conda env:base] *",
   "language": "python",
   "name": "conda-base-py"
  },
  "language_info": {
   "codemirror_mode": {
    "name": "ipython",
    "version": 3
   },
   "file_extension": ".py",
   "mimetype": "text/x-python",
   "name": "python",
   "nbconvert_exporter": "python",
   "pygments_lexer": "ipython3",
   "version": "3.12.7"
  }
 },
 "nbformat": 4,
 "nbformat_minor": 5
}
